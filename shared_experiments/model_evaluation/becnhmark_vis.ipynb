{
 "cells": [
  {
   "cell_type": "code",
   "execution_count": 43,
   "id": "c85ae595-90ec-4e55-a7ae-50d7dc067165",
   "metadata": {},
   "source": [
    "import os\n",
    "import pandas as pd\n",
    "import matplotlib.pyplot as plt\n",
    "import seaborn as sns\n",
    "import numpy as np\n",
    "import torch\n",
    "from datetime import datetime"
   ],
   "outputs": []
  },
  {
   "cell_type": "code",
   "execution_count": 74,
   "id": "26cb2377-18f8-409d-b64e-bde51a6275ee",
   "metadata": {},
   "source": [
    "import numpy\n",
    "# input_dir = \"/share/hariharan/ck696/allclear/experiments/input.npy\"\n",
    "# output_dir = \"/share/hariharan/ck696/allclear/experiments/output.npy\"\n",
    "# target_dir = \"/share/hariharan/ck696/allclear/experiments/target.npy\"\n",
    "# mask_dir = \"/share/hariharan/ck696/allclear/experiments/mask.npy\"\n",
    "# inputx = np.load(input_dir)\n",
    "# output = np.load(output_dir)\n",
    "# target = np.load(target_dir)\n",
    "# mask = np.load(mask_dir)\n",
    "print(inputx.shape, output.shape, target.shape, mask.shape)\n",
    "\n",
    "inputs = torch.load(\"/share/hariharan/ck696/allclear/experiments/inputs.pth\", map_location=\"cpu\")\n",
    "inputx = inputs[\"input_images\"]\n",
    "target = inputs[\"target\"]\n",
    "output = inputs[\"output\"]"
   ],
   "outputs": []
  },
  {
   "cell_type": "code",
   "execution_count": 79,
   "id": "c5210b87-87b2-4fb8-83d3-182b86e0a5ab",
   "metadata": {},
   "source": [
    "def benchmark_visualization(inputs):\n",
    "\n",
    "    inputx = inputs[\"input_images\"].cpu()\n",
    "    target = inputs[\"target\"].cpu()\n",
    "    output = inputs[\"output\"].cpu()\n",
    "    \n",
    "    for batch_id in range(4):\n",
    "    \n",
    "        for value_multiplier in [1, 3, 5]:\n",
    "            \n",
    "            fig, axes = plt.subplots(1,5, figsize=(10,3))\n",
    "    \n",
    "            fig.suptitle(f\"\"\"ROI: {inputs[\"roi\"][batch_id]} |  Geolocation: ({inputs[\"latlong\"][batch_id][0].item():.3f}, {inputs[\"latlong\"][batch_id][1].item():.3f})\"\"\", \n",
    "                         size=12, \n",
    "                         y=.99)\n",
    "        \n",
    "            for frame_id in range(0,3):\n",
    "                \n",
    "                ax = axes[frame_id]\n",
    "                x = inputx[batch_id][frame_id][[3,2,1]]\n",
    "                x = np.transpose(x, (1,2,0))\n",
    "                x = x * value_multiplier\n",
    "                x = np.clip(x, 0, 1)\n",
    "                ax.set_title(\"Input \\n\" + datetime.fromtimestamp(inputs[\"timestamps\"][batch_id, frame_id].item()).strftime('%Y-%m-%d'))\n",
    "                ax.imshow(x)\n",
    "            \n",
    "            ax = axes[3]\n",
    "            x = output[batch_id][0][[3,2,1]]\n",
    "            x = np.transpose(x, (1,2,0))\n",
    "            x = x * value_multiplier\n",
    "            x = np.clip(x, 0, 1)\n",
    "            ax.imshow(x)\n",
    "            ax.set_title(\"Prediction \\n\")\n",
    "            \n",
    "            ax = axes[4]\n",
    "            x = target[batch_id][0][[3,2,1]]\n",
    "            x = np.transpose(x, (1,2,0))\n",
    "            x = x * value_multiplier\n",
    "            x = np.clip(x, 0, 1)\n",
    "            ax.imshow(x)\n",
    "            ax.set_title(\"Target \\n\" + datetime.fromtimestamp(inputs[\"target_timestamps\"][frame_id].item()).strftime('%Y-%m-%d'))\n",
    "        \n",
    "            for ax in axes.flatten():\n",
    "                ax.set_xticks([])\n",
    "                ax.set_yticks([])\n",
    "        \n",
    "            fig.tight_layout()\n",
    "            plt.pause(0.1)\n",
    "    \n",
    "            # plt.savefig(f\"\"\"/share/hariharan/cloud_removal/results/visualization/{inputs[\"roi\"][batch_id]}_{args.model_name}_{self.args.experiment_name}_vm{value_multiplier}.png\"\"\")\n",
    "            plt.close()"
   ],
   "outputs": []
  },
  {
   "cell_type": "code",
   "execution_count": 80,
   "id": "5d0218ca-8b3f-48f6-8ae9-61f80f5de73b",
   "metadata": {},
   "source": [
    "benchmark_visualization(inputs)"
   ],
   "outputs": []
  },
  {
   "cell_type": "code",
   "execution_count": 60,
   "id": "8a8ccbff-adef-4c29-b9b7-456500e07d72",
   "metadata": {},
   "source": [
    "inputs[\"latlong\"]"
   ],
   "outputs": []
  }
 ],
 "metadata": {
  "kernelspec": {
   "display_name": "allclear",
   "language": "python",
   "name": "allclear"
  },
  "language_info": {
   "codemirror_mode": {
    "name": "ipython",
    "version": 3
   },
   "file_extension": ".py",
   "mimetype": "text/x-python",
   "name": "python",
   "nbconvert_exporter": "python",
   "pygments_lexer": "ipython3",
   "version": "3.9.19"
  }
 },
 "nbformat": 4,
 "nbformat_minor": 5
}
