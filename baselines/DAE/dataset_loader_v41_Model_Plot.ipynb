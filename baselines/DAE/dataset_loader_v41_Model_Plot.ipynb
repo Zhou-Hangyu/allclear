{
 "cells": [
  {
   "cell_type": "code",
   "execution_count": 70,
   "id": "fe5880e8-1c34-404b-b9b9-114e1a8bd35e",
   "metadata": {
    "tags": []
   },
   "source": [
    "import random\n",
    "import numpy as np\n",
    "import torch\n",
    "import rasterio as rs\n",
    "from torch.utils.data import Dataset, DataLoader\n",
    "from pathlib import Path\n",
    "import matplotlib.pyplot as plt\n",
    "import copy\n",
    "import pandas as pd\n",
    "import os\n",
    "import glob\n",
    "from torchvision.transforms import GaussianBlur\n",
    "import re\n",
    "\n",
    "class CogDataset_v41(Dataset):\n",
    "    def __init__(self, num_s2_frames = 10):\n",
    "        self.dataset_path = Path(\"/share/hariharan/cloud_removal/MultiSensor/dataset_temp_preprocessed/spatio_temporal\")\n",
    "        self.num_s2_frames = num_s2_frames\n",
    "        self.load_spatio_temporal_info()\n",
    "        self.mode = \"MSI\"\n",
    "\n",
    "    def __len__(self):\n",
    "        return 2048\n",
    "    \n",
    "    def __getitem__(self, idx):\n",
    "\n",
    "        # randomly select a row in self.roi_spatio_temporal_info\n",
    "        row = self.roi_spatio_temporal_info.iloc[random.randint(0, len(self.roi_spatio_temporal_info)-1)]\n",
    "        roi = row[\"roi_id\"]\n",
    "        patch_id = row[\"patch_id\"]\n",
    "        day_counts = row[\"day_count\"]\n",
    "        dates = row[\"dates\"]\n",
    "        \n",
    "        day_random_idx = random.randint(0, len(day_counts)-self.num_s2_frames)        \n",
    "        FILE_PATH = os.path.join(self.dataset_path, f\"{roi}_patch{patch_id}.cog\")\n",
    "        WINDOW = rs.windows.Window(0, day_random_idx * 256, 256, 256 * self.num_s2_frames)\n",
    "        \n",
    "        print(f\"\"\"{roi} | patch {patch_id} | day {day_random_idx} | latitude {row[\"latitude\"]:.3f} | longtitude {row[\"longtitude\"]:.3f}\"\"\")\n",
    "        print(f\"start date: {day_counts[day_random_idx]} | end date: {day_counts[day_random_idx+self.num_s2_frames]} \")\n",
    "        \n",
    "        with rs.open(FILE_PATH) as src:\n",
    "            msi = torch.from_numpy(src.read(list(range(1, 18)), window=WINDOW))\n",
    "        assert msi.shape == (17, 256 * self.num_s2_frames, 256)\n",
    "        msi = msi.reshape(17, self.num_s2_frames, 256, 256)\n",
    "        return msi\n",
    "\n",
    "    def load_spatio_temporal_info(self):\n",
    "        csv_list = glob.glob(\"/share/hariharan/cloud_removal/MultiSensor/dataset_temp_preprocessed/spatio_temporal/roi*.csv\")\n",
    "        self.roi_spatio_temporal_info = []\n",
    "        for csv_file in csv_list:\n",
    "            df = pd.read_csv(csv_file)\n",
    "            if len(self.roi_spatio_temporal_info) == 0:\n",
    "                df[\"day_count\"] = df['day_count'].apply(lambda x: [int(num) for num in re.findall(r'\\d+', x)])\n",
    "                self.roi_spatio_temporal_info = df\n",
    "            else:\n",
    "                df[\"day_count\"] = df['day_count'].apply(lambda x: [int(num) for num in re.findall(r'\\d+', x)])\n",
    "                self.roi_spatio_temporal_info = pd.concat([self.roi_spatio_temporal_info, df], ignore_index=True, axis=0)\n",
    "\n",
    "batch_size = 4\n",
    "dataset = CogDataset_v41()\n",
    "dataloader = DataLoader(dataset, batch_size=batch_size, shuffle=True, num_workers=0, drop_last=True)\n",
    "dataset.roi_spatio_temporal_info"
   ],
   "outputs": []
  },
  {
   "cell_type": "code",
   "execution_count": 71,
   "id": "ab9ab0bd-38b8-404f-ba4a-706324b039e8",
   "metadata": {
    "tags": []
   },
   "source": [
    "for msi_buffer in dataloader: break"
   ],
   "outputs": []
  },
  {
   "cell_type": "code",
   "execution_count": 72,
   "id": "66458915-f9e6-4c16-be9f-277869c38b0d",
   "metadata": {},
   "source": [
    "# msi_buffer.shape: torch.Size([4, 17, 10, 256, 256]) # [batch_size, num_bands, num_frames, height, width]\n",
    "# Plot the images in the following manner\n",
    "# for-loop over the four batches, for each batch do the following\n",
    "# construct a subplots with 5 rows and 10 columns (aka num_frames)\n",
    "# The first row is RGB, which corresponds to num_bands = 0,1,2\n",
    "# The second row is NIR, which corresponds to num_bands = 3,4,5\n",
    "# The third row is SWIR1, which corresponds to num_bands = 6,7,8\n",
    "# The fourth row is SAR, which corresponds to num_bands = 15, 15, 16\n",
    "# The fifth row is the cloud mask, which corresponds to num_bands = 10,11,13\n",
    "\n",
    "def pp(img):\n",
    "    return img.permute(1,2,0)\n",
    "\n",
    "num_frames = 10\n",
    "\n",
    "for batch_idx in range(4):\n",
    "    \n",
    "    # if batch_idx != 3: continue\n",
    "    \n",
    "    fig, axs = plt.subplots(5, num_frames, figsize=(num_frames*2, 10), sharex=True, sharey=True)\n",
    "    for frame_idx in range(num_frames):\n",
    "        \n",
    "        # RGB\n",
    "        img = pp(msi_buffer[batch_idx, 0:3, frame_idx]).numpy() / 3000\n",
    "        axs[0, frame_idx].imshow(img)\n",
    "        min_value = msi_buffer[batch_idx, 0, frame_idx].numpy().min()\n",
    "        max_value = msi_buffer[batch_idx, 0, frame_idx].numpy().max()\n",
    "        print(f\"Batch {batch_idx} at frame {frame_idx}: Max_value {max_value} | Min_value {min_value}\")\n",
    "\n",
    "        img = pp(msi_buffer[batch_idx, 4:7, frame_idx]).numpy() / 5000\n",
    "        axs[1, frame_idx].imshow(img)\n",
    "        \n",
    "        # FIR\n",
    "        axs[2, frame_idx].imshow(msi_buffer[batch_idx, 0, frame_idx].numpy(), cmap='gray', vmin=0, vmax=10000)\n",
    "        \n",
    "        \n",
    "        # SAR\n",
    "        img = np.zeros_like(img)\n",
    "        img[:,:,0] = msi_buffer[batch_idx, 10, frame_idx].numpy() / 25\n",
    "        img[:,:,1] = msi_buffer[batch_idx, 11, frame_idx].numpy() / 32.5\n",
    "        axs[3, frame_idx].imshow(img, vmin=0, vmax=32)\n",
    "        \n",
    "        img[:,:,0] = msi_buffer[batch_idx, 11, frame_idx].numpy() / 100\n",
    "        img[:,:,1] = msi_buffer[batch_idx, 13, frame_idx].numpy()\n",
    "        img[:,:,2] = msi_buffer[batch_idx, 15, frame_idx].numpy()\n",
    "        axs[4, frame_idx].imshow(img, )\n",
    "        \n",
    "    fig.tight_layout()\n",
    "    plt.pause(0.1)\n",
    "    plt.close()"
   ],
   "outputs": []
  },
  {
   "cell_type": "code",
   "execution_count": 56,
   "id": "8c215c76-c365-4640-8c52-dbf0a9dad8b0",
   "metadata": {
    "tags": []
   },
   "source": [
    "msi_buffer[:, 16, :].numpy().max()"
   ],
   "outputs": []
  },
  {
   "cell_type": "code",
   "execution_count": null,
   "id": "7c19e164-e802-4269-b245-74bb62b439eb",
   "metadata": {},
   "source": [],
   "outputs": []
  }
 ],
 "metadata": {
  "kernelspec": {
   "display_name": "Python 3 (ipykernel)",
   "language": "python",
   "name": "python3"
  },
  "language_info": {
   "codemirror_mode": {
    "name": "ipython",
    "version": 3
   },
   "file_extension": ".py",
   "mimetype": "text/x-python",
   "name": "python",
   "nbconvert_exporter": "python",
   "pygments_lexer": "ipython3",
   "version": "3.10.12"
  }
 },
 "nbformat": 4,
 "nbformat_minor": 5
}
